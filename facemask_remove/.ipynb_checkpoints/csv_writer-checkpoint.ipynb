{
 "cells": [
  {
   "cell_type": "code",
   "execution_count": 1,
   "id": "8d227478",
   "metadata": {},
   "outputs": [],
   "source": [
    "import os\n",
    "import csv"
   ]
  },
  {
   "cell_type": "code",
   "execution_count": 2,
   "id": "5045b54f",
   "metadata": {},
   "outputs": [],
   "source": [
    "msk_path = '/home/ielab/project/facemask_remove/datasets/celeba/images/celeba512_30k_masked'\n",
    "\n",
    "bin_path = '/home/ielab/project/facemask_remove/datasets/celeba/images/celeba512_30k_binary'"
   ]
  },
  {
   "cell_type": "code",
   "execution_count": 3,
   "id": "0095be8a",
   "metadata": {},
   "outputs": [],
   "source": [
    "msk_list = os.listdir(msk_path)\n",
    "bin_list   = os.listdir(bin_path)"
   ]
  },
  {
   "cell_type": "code",
   "execution_count": 4,
   "id": "8a09d8f8",
   "metadata": {},
   "outputs": [
    {
     "data": {
      "text/plain": [
       "154220"
      ]
     },
     "execution_count": 4,
     "metadata": {},
     "output_type": "execute_result"
    }
   ],
   "source": [
    "len(msk_list)"
   ]
  },
  {
   "cell_type": "code",
   "execution_count": 5,
   "id": "c674dd67",
   "metadata": {},
   "outputs": [
    {
     "data": {
      "text/plain": [
       "154220"
      ]
     },
     "execution_count": 5,
     "metadata": {},
     "output_type": "execute_result"
    }
   ],
   "source": [
    "len(bin_list)"
   ]
  },
  {
   "cell_type": "code",
   "execution_count": 6,
   "id": "d020cdf3",
   "metadata": {},
   "outputs": [],
   "source": [
    "iter = list(range(len(msk_list)))"
   ]
  },
  {
   "cell_type": "code",
   "execution_count": null,
   "id": "b381a463",
   "metadata": {},
   "outputs": [],
   "source": []
  },
  {
   "cell_type": "code",
   "execution_count": 7,
   "id": "bc909bba",
   "metadata": {},
   "outputs": [],
   "source": [
    "train_msk = msk_list[:123376]\n",
    "val_msk   = msk_list[123376:]\n",
    "\n",
    "train_bin = bin_list[:123376]\n",
    "val_bin   = bin_list[123376:]\n",
    "\n",
    "train_iter = list(range(len(train_msk)))\n",
    "val_iter   = list(range(len(val_msk)))"
   ]
  },
  {
   "cell_type": "code",
   "execution_count": 8,
   "id": "fd87ad68",
   "metadata": {},
   "outputs": [
    {
     "data": {
      "text/plain": [
       "'000008_KN95.jpg'"
      ]
     },
     "execution_count": 8,
     "metadata": {},
     "output_type": "execute_result"
    }
   ],
   "source": [
    "train_msk[5]"
   ]
  },
  {
   "cell_type": "code",
   "execution_count": 9,
   "id": "d092bac3",
   "metadata": {},
   "outputs": [
    {
     "name": "stdout",
     "output_type": "stream",
     "text": [
      "4500\n",
      "500\n"
     ]
    }
   ],
   "source": [
    "print(len(train_msk))\n",
    "print(len(val_msk))"
   ]
  },
  {
   "cell_type": "code",
   "execution_count": 10,
   "id": "f54ec489",
   "metadata": {},
   "outputs": [
    {
     "name": "stdout",
     "output_type": "stream",
     "text": [
      "4500\n",
      "500\n"
     ]
    }
   ],
   "source": [
    "print(len(train_bin))\n",
    "print(len(val_bin))"
   ]
  },
  {
   "cell_type": "code",
   "execution_count": 11,
   "id": "6cc889db",
   "metadata": {},
   "outputs": [],
   "source": [
    "file = open('train.csv', 'w', newline='')\n",
    "writer = csv.writer(file)\n",
    "\n",
    "for w in range( 4500 ):\n",
    "    writer.writerow([w, msk_path + train_msk[w], bin_path + train_bin[w]])\n"
   ]
  },
  {
   "cell_type": "code",
   "execution_count": 12,
   "id": "4a9e5d50",
   "metadata": {},
   "outputs": [],
   "source": [
    "file = open(\"val.csv\", \"w\", newline='')\n",
    "writer = csv.writer(file)\n",
    "\n",
    "for w in range( 500 ):\n",
    "    writer.writerow([w, msk_path + val_msk[w], bin_path + val_bin[w]])"
   ]
  },
  {
   "cell_type": "code",
   "execution_count": null,
   "id": "4dbc8d50",
   "metadata": {},
   "outputs": [],
   "source": []
  },
  {
   "cell_type": "code",
   "execution_count": null,
   "id": "10382f1a",
   "metadata": {},
   "outputs": [],
   "source": []
  },
  {
   "cell_type": "code",
   "execution_count": null,
   "id": "89060ade",
   "metadata": {},
   "outputs": [],
   "source": []
  },
  {
   "cell_type": "code",
   "execution_count": null,
   "id": "c92d4ca3",
   "metadata": {},
   "outputs": [],
   "source": []
  }
 ],
 "metadata": {
  "kernelspec": {
   "display_name": "Python 3 (ipykernel)",
   "language": "python",
   "name": "python3"
  },
  "language_info": {
   "codemirror_mode": {
    "name": "ipython",
    "version": 3
   },
   "file_extension": ".py",
   "mimetype": "text/x-python",
   "name": "python",
   "nbconvert_exporter": "python",
   "pygments_lexer": "ipython3",
   "version": "3.9.12"
  }
 },
 "nbformat": 4,
 "nbformat_minor": 5
}
