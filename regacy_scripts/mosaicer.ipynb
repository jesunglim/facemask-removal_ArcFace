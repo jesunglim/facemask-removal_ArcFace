{
 "cells": [
  {
   "cell_type": "code",
   "execution_count": 1,
   "id": "3ea24d75",
   "metadata": {},
   "outputs": [],
   "source": [
    "import os\n",
    "import numpy\n",
    "import cv2\n",
    "import shutil"
   ]
  },
  {
   "cell_type": "code",
   "execution_count": 2,
   "id": "47a4908f",
   "metadata": {},
   "outputs": [],
   "source": [
    "train_path = '/home/ielab/dataset/ms1m_dataset/train/'\n",
    "test_path = '/home/ielab/dataset/ms1m_dataset/test/'\n",
    "\n",
    "train_m_path = '/home/ielab/dataset/ms1m_dataset/train_mosaic/'\n",
    "test_m_path = '/home/ielab/dataset/ms1m_dataset/test_mosaic/'"
   ]
  },
  {
   "cell_type": "code",
   "execution_count": 20,
   "id": "afe5e9fc",
   "metadata": {},
   "outputs": [],
   "source": [
    "train_list = os.listdir(train_path)\n",
    "test_list = os.listdir(test_path)"
   ]
  },
  {
   "cell_type": "code",
   "execution_count": 4,
   "id": "3baf97da",
   "metadata": {
    "scrolled": true
   },
   "outputs": [],
   "source": [
    "for i in train_list:\n",
    "    if not os.path.exists(train_m_path+i):\n",
    "        os.makedirs(train_m_path+i)\n",
    "\n",
    "for i in train_list:\n",
    "    i_list = os.listdir(train_path+i)\n",
    "    \n",
    "    for file in i_list:\n",
    "        img = cv2.imread(train_path+i+'/'+file)\n",
    "        mask = cv2.rectangle(img, (0,65), (112,112), 0, -1)\n",
    "        cv2.imwrite(train_m_path+i+'/'+file, mask)"
   ]
  },
  {
   "cell_type": "code",
   "execution_count": 21,
   "id": "b14bdcbf",
   "metadata": {},
   "outputs": [],
   "source": [
    "for i in test_list:\n",
    "    if not os.path.exists(test_m_path+i):\n",
    "        os.makedirs(test_m_path+i)\n",
    "\n",
    "for i in test_list:\n",
    "    i_list = os.listdir(test_path+i)\n",
    "    \n",
    "    for file in i_list:\n",
    "        img = cv2.imread(test_path+i+'/'+file)\n",
    "        mask = cv2.rectangle(img, (0,65), (112,112), 0, -1)\n",
    "        cv2.imwrite(test_m_path+i+'/'+file, mask)"
   ]
  },
  {
   "cell_type": "markdown",
   "id": "20560349",
   "metadata": {},
   "source": [
    "# 무결성 확인"
   ]
  },
  {
   "cell_type": "code",
   "execution_count": 18,
   "id": "9829c661",
   "metadata": {},
   "outputs": [],
   "source": [
    "for i in train_list:\n",
    "    i_list = os.listdir(train_m_path+i)\n",
    "    og_list = os.listdir(train_path+i)\n",
    "    \n",
    "    if len(i_list) != len(og_list):\n",
    "        print(i+' is not matched')"
   ]
  },
  {
   "cell_type": "code",
   "execution_count": 22,
   "id": "f01a9ad1",
   "metadata": {},
   "outputs": [],
   "source": [
    "for i in test_list:\n",
    "    i_list = os.listdir(test_m_path+i)\n",
    "    og_list = os.listdir(test_path+i)\n",
    "    \n",
    "    if len(i_list) != len(og_list):\n",
    "        print(i+' is not matched')"
   ]
  },
  {
   "cell_type": "code",
   "execution_count": 7,
   "id": "6bd68f6c",
   "metadata": {},
   "outputs": [
    {
     "data": {
      "text/plain": [
       "3052"
      ]
     },
     "execution_count": 7,
     "metadata": {},
     "output_type": "execute_result"
    }
   ],
   "source": [
    "len(train_m_list)"
   ]
  }
 ],
 "metadata": {
  "kernelspec": {
   "display_name": "Python 3 (ipykernel)",
   "language": "python",
   "name": "python3"
  },
  "language_info": {
   "codemirror_mode": {
    "name": "ipython",
    "version": 3
   },
   "file_extension": ".py",
   "mimetype": "text/x-python",
   "name": "python",
   "nbconvert_exporter": "python",
   "pygments_lexer": "ipython3",
   "version": "3.9.12"
  }
 },
 "nbformat": 4,
 "nbformat_minor": 5
}
