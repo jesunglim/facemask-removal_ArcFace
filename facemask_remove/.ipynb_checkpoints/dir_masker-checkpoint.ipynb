{
 "cells": [
  {
   "cell_type": "code",
   "execution_count": 1,
   "id": "e2fe0c0c",
   "metadata": {},
   "outputs": [],
   "source": [
    "import os\n",
    "import numpy\n",
    "import cv2\n",
    "import shutil\n",
    "from tqdm import tqdm\n",
    "\n",
    "from configs import Config\n",
    "from tune_infer import Predictor"
   ]
  },
  {
   "cell_type": "code",
   "execution_count": 2,
   "id": "0676ea4b",
   "metadata": {},
   "outputs": [],
   "source": [
    "config = Config(f'./configs/facemask.yaml')\n",
    "\n",
    "model = Predictor(config)"
   ]
  },
  {
   "cell_type": "code",
   "execution_count": 3,
   "id": "1af96a46",
   "metadata": {},
   "outputs": [],
   "source": [
    "train_path = '/home/ielab/dataset/ms1m_dataset/train_masked/'\n",
    "test_path = '/home/ielab/dataset/ms1m_dataset/test_masked/'\n",
    "\n",
    "train_m_path = '/home/ielab/dataset/ms1m_dataset/train_gan/'\n",
    "test_m_path = '/home/ielab/dataset/ms1m_dataset/test_gan/'"
   ]
  },
  {
   "cell_type": "code",
   "execution_count": 4,
   "id": "9e3f0130",
   "metadata": {},
   "outputs": [],
   "source": [
    "train_list = os.listdir(train_path)\n",
    "test_list = os.listdir(test_path)"
   ]
  },
  {
   "cell_type": "code",
   "execution_count": 5,
   "id": "f797c509",
   "metadata": {},
   "outputs": [
    {
     "name": "stderr",
     "output_type": "stream",
     "text": [
      "100%|██████████| 3052/3052 [42:11<00:00,  1.21it/s] \n"
     ]
    }
   ],
   "source": [
    "for i in train_list:\n",
    "    if not os.path.exists(train_m_path+i):\n",
    "        os.makedirs(train_m_path+i)\n",
    "\n",
    "for i in tqdm(train_list):\n",
    "    i_list = os.listdir(train_path+i)\n",
    "    \n",
    "    for file in i_list:\n",
    "        img_path = train_path+i+'/'+file\n",
    "        output_path = train_m_path+i+'/'+file\n",
    "        model.predict(img_path, output_path)"
   ]
  },
  {
   "cell_type": "code",
   "execution_count": 9,
   "id": "22f2db3a",
   "metadata": {},
   "outputs": [
    {
     "name": "stderr",
     "output_type": "stream",
     "text": [
      "100%|██████████| 3052/3052 [10:35<00:00,  4.80it/s]\n"
     ]
    }
   ],
   "source": [
    "for i in test_list:\n",
    "    if not os.path.exists(test_m_path+i):\n",
    "        os.makedirs(test_m_path+i)\n",
    "\n",
    "for i in tqdm(test_list):\n",
    "    i_list = os.listdir(test_path+i)\n",
    "    \n",
    "    for file in i_list:\n",
    "        img_path = test_path+i+'/'+file\n",
    "        output_path = test_m_path+i+'/'+file\n",
    "        model.predict(img_path, output_path)"
   ]
  },
  {
   "cell_type": "code",
   "execution_count": null,
   "id": "d7495657",
   "metadata": {},
   "outputs": [],
   "source": []
  },
  {
   "cell_type": "markdown",
   "id": "b801044c",
   "metadata": {},
   "source": [
    "# 무결성 확인"
   ]
  },
  {
   "cell_type": "code",
   "execution_count": 6,
   "id": "3d588883",
   "metadata": {},
   "outputs": [],
   "source": [
    "for i in train_list:\n",
    "    i_list = os.listdir(train_m_path+i)\n",
    "    og_list = os.listdir(train_path+i)\n",
    "    \n",
    "    if len(i_list) != len(og_list):\n",
    "        print(i+' is not matched')"
   ]
  },
  {
   "cell_type": "code",
   "execution_count": 10,
   "id": "0b600c7a",
   "metadata": {},
   "outputs": [],
   "source": [
    "for i in test_list:\n",
    "    i_list = os.listdir(test_m_path+i)\n",
    "    og_list = os.listdir(test_path+i)\n",
    "    \n",
    "    if len(i_list) != len(og_list):\n",
    "        print(i+' is not matched')"
   ]
  },
  {
   "cell_type": "code",
   "execution_count": 8,
   "id": "174c8be2",
   "metadata": {},
   "outputs": [
    {
     "data": {
      "text/plain": [
       "3052"
      ]
     },
     "execution_count": 8,
     "metadata": {},
     "output_type": "execute_result"
    }
   ],
   "source": [
    "len(train_list)"
   ]
  },
  {
   "cell_type": "code",
   "execution_count": null,
   "id": "21f5ccb2",
   "metadata": {},
   "outputs": [],
   "source": []
  }
 ],
 "metadata": {
  "kernelspec": {
   "display_name": "arcface",
   "language": "python",
   "name": "arcface"
  },
  "language_info": {
   "codemirror_mode": {
    "name": "ipython",
    "version": 3
   },
   "file_extension": ".py",
   "mimetype": "text/x-python",
   "name": "python",
   "nbconvert_exporter": "python",
   "pygments_lexer": "ipython3",
   "version": "3.8.13"
  }
 },
 "nbformat": 4,
 "nbformat_minor": 5
}
